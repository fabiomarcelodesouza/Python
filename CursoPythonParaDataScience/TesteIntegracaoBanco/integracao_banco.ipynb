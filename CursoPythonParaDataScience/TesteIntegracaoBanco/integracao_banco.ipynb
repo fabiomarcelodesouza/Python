{
 "cells": [
  {
   "cell_type": "code",
   "execution_count": 59,
   "metadata": {},
   "outputs": [],
   "source": [
    "import pyodbc \n",
    "import numpy as np\n",
    "# Some other example server values are\n",
    "# server = 'localhost\\sqlexpress' # for a named instance\n",
    "# server = 'myserver,port' # to specify an alternate port\n",
    "server = 'WSDSQLBRZ084\\DBGL' \n",
    "database = 'Tkgs_Cap' \n",
    "username = 'tkgshom_user' \n",
    "password = 'Zurich@18' \n",
    "# ENCRYPT defaults to yes starting in ODBC Driver 18. It's good to always specify ENCRYPT=yes on the client side to avoid MITM attacks.\n",
    "db = pyodbc.connect('DRIVER={SQL Server Native Client 11.0};SERVER='+server+';DATABASE='+database+';ENCRYPT=no;UID='+username+';PWD='+ password)\n",
    "cursor = db.cursor()"
   ]
  },
  {
   "cell_type": "code",
   "execution_count": 65,
   "metadata": {},
   "outputs": [],
   "source": [
    "query = db.cursor().execute(\"select * from tmp_import_pag\").fetchall()\n",
    "registros = np.array(query)\n"
   ]
  },
  {
   "cell_type": "code",
   "execution_count": 77,
   "metadata": {},
   "outputs": [
    {
     "name": "stdout",
     "output_type": "stream",
     "text": [
      "[None None None None None None None None None None None None None None\n",
      " None None None None None None None None None None None None None None\n",
      " None None None None None None None None None None None None None None\n",
      " None None None None None]\n",
      "[None None None None None None None None None None None None None None\n",
      " None None None None None None None None None None None None None None\n",
      " None None None None None None None None None None None None None None\n",
      " None None None None None]\n",
      "[None None None None None None None None None None None None None None\n",
      " None None None None None None None None None None None None None None\n",
      " None None None None None None None None None None None None None None\n",
      " None None None None None]\n"
     ]
    },
    {
     "data": {
      "text/plain": [
       "[None, None, None]"
      ]
     },
     "execution_count": 77,
     "metadata": {},
     "output_type": "execute_result"
    }
   ],
   "source": [
    "[print(item) for item in np.where(registros[0] == \"H\", registros, None)]\n",
    "\n"
   ]
  }
 ],
 "metadata": {
  "kernelspec": {
   "display_name": "Python 3.10.7 64-bit",
   "language": "python",
   "name": "python3"
  },
  "language_info": {
   "codemirror_mode": {
    "name": "ipython",
    "version": 3
   },
   "file_extension": ".py",
   "mimetype": "text/x-python",
   "name": "python",
   "nbconvert_exporter": "python",
   "pygments_lexer": "ipython3",
   "version": "3.10.7"
  },
  "orig_nbformat": 4,
  "vscode": {
   "interpreter": {
    "hash": "3942c8c95813b34648bf23c0289cf487219bcccdad994880efe483a67b936d76"
   }
  }
 },
 "nbformat": 4,
 "nbformat_minor": 2
}
